{
 "cells": [
  {
   "cell_type": "markdown",
   "metadata": {},
   "source": [
    "## Python Lab 03"
   ]
  },
  {
   "cell_type": "code",
   "execution_count": 1,
   "metadata": {},
   "outputs": [],
   "source": [
    "import numpy as np"
   ]
  },
  {
   "cell_type": "markdown",
   "metadata": {},
   "source": [
    "---\n",
    "\n",
    "# Task\n",
    "Numpy task\n",
    "\n",
    "* Generate $N\\times 2$ array of random numbers $[0,1]$\n",
    "* Calculate squares of all elements\n",
    "* Add elements along the short direction (resulting in $N\\times 1$ array)\n",
    "* Count the number of elements less than 1\n",
    "* Calculate the value:\n",
    "$$4\\cdot\\frac{N_{x<1}}{N}$$"
   ]
  },
  {
   "cell_type": "code",
   "execution_count": 47,
   "metadata": {},
   "outputs": [],
   "source": [
    "N = 100000000\n",
    "mat = np.random.random((N,2))"
   ]
  },
  {
   "cell_type": "code",
   "execution_count": 48,
   "metadata": {},
   "outputs": [],
   "source": [
    "mat2=mat**2"
   ]
  },
  {
   "cell_type": "code",
   "execution_count": 49,
   "metadata": {},
   "outputs": [
    {
     "data": {
      "text/plain": [
       "array([0.31382657, 0.79153118, 0.86384935, ..., 0.90892555, 1.36397125,\n",
       "       0.13399536], shape=(100000000,))"
      ]
     },
     "execution_count": 49,
     "metadata": {},
     "output_type": "execute_result"
    }
   ],
   "source": [
    "mats=np.sum(mat2,axis=1)\n",
    "mats"
   ]
  },
  {
   "cell_type": "code",
   "execution_count": 50,
   "metadata": {},
   "outputs": [],
   "source": [
    "# NumPy equivalent of: [i for i in _ if i>1]\n",
    "# use existing 1D array `mats`\n",
    "matx = mats[mats<1]"
   ]
  },
  {
   "cell_type": "code",
   "execution_count": 36,
   "metadata": {},
   "outputs": [],
   "source": [
    "matx = [i for i in mats if i<1]"
   ]
  },
  {
   "cell_type": "code",
   "execution_count": 51,
   "metadata": {},
   "outputs": [
    {
     "data": {
      "text/plain": [
       "3.14171432"
      ]
     },
     "execution_count": 51,
     "metadata": {},
     "output_type": "execute_result"
    }
   ],
   "source": [
    "4*len(matx)/N"
   ]
  },
  {
   "cell_type": "code",
   "execution_count": 52,
   "metadata": {},
   "outputs": [
    {
     "data": {
      "text/plain": [
       "3.141592653589793"
      ]
     },
     "execution_count": 52,
     "metadata": {},
     "output_type": "execute_result"
    }
   ],
   "source": [
    "np.pi"
   ]
  },
  {
   "cell_type": "markdown",
   "metadata": {},
   "source": [
    "almost there..."
   ]
  },
  {
   "cell_type": "markdown",
   "metadata": {},
   "source": [
    "## Task\n",
    "    \n",
    "Implement a function calculating price $P$    \n",
    "\n",
    "   $$P(y;T, \\vec{C}, F)=\\frac{F}{(1+y)^T}+\\sum_{i=1}^T\\frac{C_i}{(1+y)^i}$$\n",
    "   \n",
    "   \n",
    "   From coupons $\\vec{C}\\in \\mathbb{R}^T$ (narray) and given yield-to-maturity $y$ and face value $F$.\n",
    "  For example choose the following values:\n",
    "  \n",
    "   $$y=5\\%,\\quad F=\\$100, \\quad C_i=\\$3,\\quad T=29$$"
   ]
  },
  {
   "cell_type": "markdown",
   "metadata": {
    "ExecuteTime": {
     "end_time": "2023-10-20T07:02:16.448531Z",
     "start_time": "2023-10-20T07:02:16.444211Z"
    }
   },
   "source": [
    "---\n",
    "\n",
    "\n",
    "# Task\n",
    "\n",
    "## \n",
    "Consider a logistic map $\\scriptsize x\\ni[0,1]\\to f(x)=kx(1-x)\\in[0,1]$ for $\\scriptsize k\\in[0,4]$.\n",
    "\n",
    "The iteration \n",
    "\n",
    "$$\\scriptsize x_{n+1}=kx_n(1-x_n)$$\n",
    "\n",
    "has two fixed points (solution to $\\scriptsize x=f(x)$):  $\\scriptsize x=0$ and $\\scriptsize x=1-\\frac1k$.\n",
    "\n",
    "## \n",
    "Q: What happens when $\\scriptsize k=0.5$, $\\scriptsize k=2.5$, $\\scriptsize k=3.1$, $\\scriptsize k=3.5$, $\\scriptsize k=4$? And why?\n",
    "\n",
    "More precisely:\n",
    "* print the series $x_n$ for given $k$s\n",
    "* plot the series in those cases\n",
    "* Draw a graph showing $(k, x_n)$ for many numbers $n>100$ and different $k\\in [0,4]$\n",
    "[similar to this](https://en.wikipedia.org/wiki/Logistic_map#/media/File:Logistic_Bifurcation_map_High_Resolution.png)\n",
    "\n",
    "can we speed up the process."
   ]
  },
  {
   "cell_type": "markdown",
   "metadata": {},
   "source": [
    "---\n",
    "\n",
    "# Task\n",
    "## \n",
    "find a solution to the equation:\n",
    "\n",
    "$$x=\\cos(x)$$\n",
    "\n",
    "\n",
    "for $x\\in [0,1]$ using three methods:\n",
    "* bisection: <br>\n",
    "    we divide an interval $[a, b]$, to $[a,c]$  and $[c, b]$ for $c=\\frac{a+b}{2}$ and for next iteration we choose the interval where the sign is changed.\n",
    "* naive iteration $x_{n+1}=\\cos(x_n)$,\n",
    "* Newton's method:<br>\n",
    " for $f(x)=0$ we iterate $$x_{n+1}=x_{n}-\\frac{f(x_n)}{f'(x_n)}$$\n",
    "\n",
    "Plot function $y=x$ and $y=\\cos(x)$.<br>\n",
    "Analyze how fast the solution is reached.\n",
    "\n",
    "## \n",
    "Solve the equation \n",
    "$$P(y; \\vec{C}, F) = 53.52$$"
   ]
  },
  {
   "cell_type": "markdown",
   "metadata": {},
   "source": [
    "$$F(x)=\\cos(x)-x$$"
   ]
  },
  {
   "cell_type": "markdown",
   "metadata": {},
   "source": [
    "---\n",
    "\n",
    "# Task\n",
    "Analyze Newton's method for \n",
    "\n",
    "$$f(x)=|x|^p$$\n",
    "\n",
    "for different values of $p$."
   ]
  },
  {
   "cell_type": "markdown",
   "metadata": {},
   "source": []
  },
  {
   "cell_type": "markdown",
   "metadata": {},
   "source": [
    "---\n",
    "\n",
    "# Task\n",
    "## \n",
    "Analyze the Newton's method for \n",
    "\n",
    "$$f(z)=z^3-1,\\;\\; f'(z)=3z^2$$\n",
    "\n",
    "$$z=e^{2m\\pi i/3},\\;\\; m=1,2,3$$\n",
    "\n",
    "for complex valued $z$. Draw the Newton's fractal.<br>\n",
    "How effectively can you do it?\n",
    "## \n",
    "Draw the Hayley fractal\n",
    "\n",
    "## \n",
    "Draw the Newton fractal for equation\n",
    "$$f(z) = z^3-2z+2$$"
   ]
  }
 ],
 "metadata": {
  "kernelspec": {
   "display_name": "Python 3",
   "language": "python",
   "name": "python3"
  },
  "language_info": {
   "codemirror_mode": {
    "name": "ipython",
    "version": 3
   },
   "file_extension": ".py",
   "mimetype": "text/x-python",
   "name": "python",
   "nbconvert_exporter": "python",
   "pygments_lexer": "ipython3",
   "version": "3.10.11"
  },
  "latex_envs": {
   "LaTeX_envs_menu_present": true,
   "autoclose": false,
   "autocomplete": true,
   "bibliofile": "biblio.bib",
   "cite_by": "apalike",
   "current_citInitial": 1,
   "eqLabelWithNumbers": true,
   "eqNumInitial": 1,
   "hotkeys": {
    "equation": "Ctrl-E",
    "itemize": "Ctrl-I"
   },
   "labels_anchors": false,
   "latex_user_defs": false,
   "report_style_numbering": false,
   "user_envs_cfg": false
  },
  "toc": {
   "base_numbering": 1,
   "nav_menu": {},
   "number_sections": true,
   "sideBar": true,
   "skip_h1_title": false,
   "title_cell": "Table of Contents",
   "title_sidebar": "Contents",
   "toc_cell": false,
   "toc_position": {},
   "toc_section_display": true,
   "toc_window_display": false
  },
  "varInspector": {
   "cols": {
    "lenName": 16,
    "lenType": 16,
    "lenVar": 40
   },
   "kernels_config": {
    "python": {
     "delete_cmd_postfix": "",
     "delete_cmd_prefix": "del ",
     "library": "var_list.py",
     "varRefreshCmd": "print(var_dic_list())"
    },
    "r": {
     "delete_cmd_postfix": ") ",
     "delete_cmd_prefix": "rm(",
     "library": "var_list.r",
     "varRefreshCmd": "cat(var_dic_list()) "
    }
   },
   "types_to_exclude": [
    "module",
    "function",
    "builtin_function_or_method",
    "instance",
    "_Feature"
   ],
   "window_display": false
  }
 },
 "nbformat": 4,
 "nbformat_minor": 2
}

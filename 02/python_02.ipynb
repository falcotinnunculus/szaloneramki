{
 "cells": [
  {
   "cell_type": "code",
   "execution_count": 1,
   "id": "871b21c7",
   "metadata": {},
   "outputs": [
    {
     "data": {
      "text/plain": [
       "5.551115123125783e-17"
      ]
     },
     "execution_count": 1,
     "metadata": {},
     "output_type": "execute_result"
    }
   ],
   "source": [
    "(0.1+0.2)-0.3"
   ]
  },
  {
   "cell_type": "markdown",
   "id": "22480424",
   "metadata": {},
   "source": [
    "### pobawię się tqdmem bo mi się nudzi"
   ]
  },
  {
   "cell_type": "code",
   "execution_count": null,
   "id": "04611944",
   "metadata": {},
   "outputs": [],
   "source": [
    "from tqdm.notebook import tqdm"
   ]
  },
  {
   "cell_type": "code",
   "execution_count": 4,
   "id": "b66a997b",
   "metadata": {},
   "outputs": [],
   "source": [
    "import numpy as np"
   ]
  },
  {
   "cell_type": "code",
   "execution_count": null,
   "id": "0071efe0",
   "metadata": {},
   "outputs": [
    {
     "name": "stderr",
     "output_type": "stream",
     "text": [
      "Widget Javascript not detected.  It may not be installed or enabled properly. Reconnecting the current kernel may help.\n"
     ]
    },
    {
     "data": {
      "application/vnd.jupyter.widget-view+json": {
       "model_id": "4a8049ab1fea4dad8c474912167d9483"
      }
     },
     "metadata": {},
     "output_type": "display_data"
    },
    {
     "ename": "AttributeError",
     "evalue": "'FloatProgress' object has no attribute 'style'",
     "output_type": "error",
     "traceback": [
      "\u001b[0;31m---------------------------------------------------------------------------\u001b[0m",
      "\u001b[0;31mAttributeError\u001b[0m                            Traceback (most recent call last)",
      "\u001b[0;32m/tmp/ipykernel_3530/567977756.py\u001b[0m in \u001b[0;36m<module>\u001b[0;34m\u001b[0m\n\u001b[0;32m----> 1\u001b[0;31m \u001b[0;34m[\u001b[0m\u001b[0;36m1\u001b[0m \u001b[0;32mif\u001b[0m \u001b[0mnp\u001b[0m\u001b[0;34m.\u001b[0m\u001b[0msqrt\u001b[0m\u001b[0;34m(\u001b[0m\u001b[0mnp\u001b[0m\u001b[0;34m.\u001b[0m\u001b[0mrandom\u001b[0m\u001b[0;34m.\u001b[0m\u001b[0mrandom\u001b[0m\u001b[0;34m(\u001b[0m\u001b[0;34m)\u001b[0m\u001b[0;34m**\u001b[0m\u001b[0;36m2\u001b[0m\u001b[0;34m+\u001b[0m\u001b[0mnp\u001b[0m\u001b[0;34m.\u001b[0m\u001b[0mrandom\u001b[0m\u001b[0;34m.\u001b[0m\u001b[0mrandom\u001b[0m\u001b[0;34m(\u001b[0m\u001b[0;34m)\u001b[0m\u001b[0;34m**\u001b[0m\u001b[0;36m2\u001b[0m\u001b[0;34m)\u001b[0m\u001b[0;34m>\u001b[0m\u001b[0;36m0\u001b[0m \u001b[0;32melse\u001b[0m \u001b[0;36m0\u001b[0m \u001b[0;32mfor\u001b[0m \u001b[0m_\u001b[0m \u001b[0;32min\u001b[0m \u001b[0mtqdm\u001b[0m\u001b[0;34m(\u001b[0m\u001b[0mrange\u001b[0m\u001b[0;34m(\u001b[0m\u001b[0;36m10000000\u001b[0m\u001b[0;34m)\u001b[0m\u001b[0;34m)\u001b[0m\u001b[0;34m]\u001b[0m\u001b[0;34m\u001b[0m\u001b[0;34m\u001b[0m\u001b[0m\n\u001b[0m",
      "\u001b[0;32m/usr/lib/python3/dist-packages/tqdm/notebook.py\u001b[0m in \u001b[0;36m__init__\u001b[0;34m(self, *args, **kwargs)\u001b[0m\n\u001b[1;32m    243\u001b[0m             \u001b[0mdisplay\u001b[0m\u001b[0;34m(\u001b[0m\u001b[0mself\u001b[0m\u001b[0;34m.\u001b[0m\u001b[0mcontainer\u001b[0m\u001b[0;34m)\u001b[0m\u001b[0;34m\u001b[0m\u001b[0;34m\u001b[0m\u001b[0m\n\u001b[1;32m    244\u001b[0m         \u001b[0mself\u001b[0m\u001b[0;34m.\u001b[0m\u001b[0mdisp\u001b[0m \u001b[0;34m=\u001b[0m \u001b[0mself\u001b[0m\u001b[0;34m.\u001b[0m\u001b[0mdisplay\u001b[0m\u001b[0;34m\u001b[0m\u001b[0;34m\u001b[0m\u001b[0m\n\u001b[0;32m--> 245\u001b[0;31m         \u001b[0mself\u001b[0m\u001b[0;34m.\u001b[0m\u001b[0mcolour\u001b[0m \u001b[0;34m=\u001b[0m \u001b[0mcolour\u001b[0m\u001b[0;34m\u001b[0m\u001b[0;34m\u001b[0m\u001b[0m\n\u001b[0m\u001b[1;32m    246\u001b[0m \u001b[0;34m\u001b[0m\u001b[0m\n\u001b[1;32m    247\u001b[0m         \u001b[0;31m# Print initial bar state\u001b[0m\u001b[0;34m\u001b[0m\u001b[0;34m\u001b[0m\u001b[0m\n",
      "\u001b[0;32m/usr/lib/python3/dist-packages/tqdm/notebook.py\u001b[0m in \u001b[0;36mcolour\u001b[0;34m(self, bar_color)\u001b[0m\n\u001b[1;32m    204\u001b[0m     \u001b[0;32mdef\u001b[0m \u001b[0mcolour\u001b[0m\u001b[0;34m(\u001b[0m\u001b[0mself\u001b[0m\u001b[0;34m,\u001b[0m \u001b[0mbar_color\u001b[0m\u001b[0;34m)\u001b[0m\u001b[0;34m:\u001b[0m\u001b[0;34m\u001b[0m\u001b[0;34m\u001b[0m\u001b[0m\n\u001b[1;32m    205\u001b[0m         \u001b[0;32mif\u001b[0m \u001b[0mhasattr\u001b[0m\u001b[0;34m(\u001b[0m\u001b[0mself\u001b[0m\u001b[0;34m,\u001b[0m \u001b[0;34m'container'\u001b[0m\u001b[0;34m)\u001b[0m\u001b[0;34m:\u001b[0m\u001b[0;34m\u001b[0m\u001b[0;34m\u001b[0m\u001b[0m\n\u001b[0;32m--> 206\u001b[0;31m             \u001b[0mself\u001b[0m\u001b[0;34m.\u001b[0m\u001b[0mcontainer\u001b[0m\u001b[0;34m.\u001b[0m\u001b[0mchildren\u001b[0m\u001b[0;34m[\u001b[0m\u001b[0;34m-\u001b[0m\u001b[0;36m2\u001b[0m\u001b[0;34m]\u001b[0m\u001b[0;34m.\u001b[0m\u001b[0mstyle\u001b[0m\u001b[0;34m.\u001b[0m\u001b[0mbar_color\u001b[0m \u001b[0;34m=\u001b[0m \u001b[0mbar_color\u001b[0m\u001b[0;34m\u001b[0m\u001b[0;34m\u001b[0m\u001b[0m\n\u001b[0m\u001b[1;32m    207\u001b[0m \u001b[0;34m\u001b[0m\u001b[0m\n\u001b[1;32m    208\u001b[0m     \u001b[0;32mdef\u001b[0m \u001b[0m__init__\u001b[0m\u001b[0;34m(\u001b[0m\u001b[0mself\u001b[0m\u001b[0;34m,\u001b[0m \u001b[0;34m*\u001b[0m\u001b[0margs\u001b[0m\u001b[0;34m,\u001b[0m \u001b[0;34m**\u001b[0m\u001b[0mkwargs\u001b[0m\u001b[0;34m)\u001b[0m\u001b[0;34m:\u001b[0m\u001b[0;34m\u001b[0m\u001b[0;34m\u001b[0m\u001b[0m\n",
      "\u001b[0;31mAttributeError\u001b[0m: 'FloatProgress' object has no attribute 'style'"
     ]
    }
   ],
   "source": [
    "[1 if np.sqrt(np.random.random()**2+np.random.random()**2)>0 else 0 for _ in tqdm(range(10000000))]"
   ]
  },
  {
   "cell_type": "code",
   "execution_count": null,
   "id": "d944bdcd",
   "metadata": {},
   "outputs": [],
   "source": []
  },
  {
   "cell_type": "markdown",
   "id": "69a0bb6b",
   "metadata": {},
   "source": [
    "### a task"
   ]
  },
  {
   "cell_type": "code",
   "execution_count": null,
   "id": "43eaac69",
   "metadata": {},
   "outputs": [],
   "source": [
    "def solver(a,b,c):\n",
    "    if a>0:\n",
    "        return()"
   ]
  },
  {
   "cell_type": "markdown",
   "id": "362feaa7",
   "metadata": {},
   "source": [
    "overflow"
   ]
  },
  {
   "cell_type": "code",
   "execution_count": 8,
   "id": "2fbeef53",
   "metadata": {},
   "outputs": [],
   "source": [
    "def f1(x): return (1-np.cosh(x))/(1+np.cosh(x))\n",
    "def f2(x): return (1/np.cosh(x)-1)/(1/np.cosh(x)+1)"
   ]
  },
  {
   "cell_type": "code",
   "execution_count": 2,
   "id": "f3dd9330",
   "metadata": {},
   "outputs": [],
   "source": [
    "import matplotlib.pyplot as plt"
   ]
  },
  {
   "cell_type": "code",
   "execution_count": 11,
   "id": "2679ec86",
   "metadata": {},
   "outputs": [
    {
     "data": {
      "text/plain": [
       "[<matplotlib.lines.Line2D at 0x767eee3ca920>]"
      ]
     },
     "execution_count": 11,
     "metadata": {},
     "output_type": "execute_result"
    },
    {
     "data": {
      "image/png": "[encoded data removed]",
      "text/plain": [
       "<Figure size 432x288 with 1 Axes>"
      ]
     },
     "metadata": {
      "needs_background": "light"
     },
     "output_type": "display_data"
    }
   ],
   "source": [
    "# plt.plot(r:=np.arange(100),f1(r))\n",
    "# plt.plot(r:=np.arange(100),f2(r))\n",
    "plt.plot(r:=np.arange(100),f1(r)-f2(r))\n"
   ]
  },
  {
   "cell_type": "code",
   "execution_count": 6,
   "id": "e6e50e9a",
   "metadata": {},
   "outputs": [],
   "source": [
    "f1(range(10))"
   ]
  },
  {
   "cell_type": "code",
   "execution_count": 7,
   "id": "8ff988e1",
   "metadata": {},
   "outputs": [],
   "source": [
    "f1(2)"
   ]
  },
  {
   "cell_type": "markdown",
   "id": "48478c53",
   "metadata": {},
   "source": [
    "D"
   ]
  },
  {
   "cell_type": "code",
   "execution_count": 29,
   "id": "8006b9e1",
   "metadata": {},
   "outputs": [
    {
     "data": {
      "image/png": "[encoded data removed]",
      "text/plain": [
       "<Figure size 432x288 with 1 Axes>"
      ]
     },
     "metadata": {
      "needs_background": "light"
     },
     "output_type": "display_data"
    }
   ],
   "source": [
    "f = np.sin\n",
    "df = np.cos\n",
    "x = 1\n",
    "\n",
    "plt.plot(h:=np.logspace(1,-16,100),np.abs(((f(x+h)-f(x))/h)-df(x)))\n",
    "plt.xscale('log')\n",
    "plt.yscale('log')"
   ]
  },
  {
   "attachments": {
    "image.png": {
     "image/png": "[encoded data removed]"
    }
   },
   "cell_type": "markdown",
   "id": "bf59f8f4",
   "metadata": {},
   "source": [
    "![image.png](attachment:image.png)"
   ]
  },
  {
   "cell_type": "code",
   "execution_count": 20,
   "id": "7e3d42b1",
   "metadata": {},
   "outputs": [
    {
     "data": {
      "text/plain": [
       "array([1.00000000e+01, 4.49843267e+00, 2.02358965e+00, 9.10298178e-01,\n",
       "       4.09491506e-01, 1.84206997e-01, 8.28642773e-02, 3.72759372e-02,\n",
       "       1.67683294e-02, 7.54312006e-03, 3.39322177e-03, 1.52641797e-03,\n",
       "       6.86648845e-04, 3.08884360e-04, 1.38949549e-04, 6.25055193e-05,\n",
       "       2.81176870e-05, 1.26485522e-05, 5.68986603e-06, 2.55954792e-06,\n",
       "       1.15139540e-06, 5.17947468e-07, 2.32995181e-07, 1.04811313e-07,\n",
       "       4.71486636e-08, 2.12095089e-08, 9.54095476e-09, 4.29193426e-09,\n",
       "       1.93069773e-09, 8.68511374e-10, 3.90693994e-10, 1.75751062e-10,\n",
       "       7.90604321e-11, 3.55648031e-11, 1.59985872e-11, 7.19685673e-12,\n",
       "       3.23745754e-12, 1.45634848e-12, 6.55128557e-13, 2.94705170e-13,\n",
       "       1.32571137e-13, 5.96362332e-14, 2.68269580e-14, 1.20679264e-14,\n",
       "       5.42867544e-15, 2.44205309e-15, 1.09854114e-15, 4.94171336e-16,\n",
       "       2.22299648e-16, 1.00000000e-16])"
      ]
     },
     "execution_count": 20,
     "metadata": {},
     "output_type": "execute_result"
    }
   ],
   "source": [
    "np.logspace(1,-16)"
   ]
  },
  {
   "cell_type": "code",
   "execution_count": 30,
   "id": "917f3bee",
   "metadata": {},
   "outputs": [
    {
     "data": {
      "image/png": "[encoded data removed]",
      "text/plain": [
       "<Figure size 432x288 with 1 Axes>"
      ]
     },
     "metadata": {
      "needs_background": "light"
     },
     "output_type": "display_data"
    }
   ],
   "source": [
    "f = np.sin\n",
    "df = np.cos\n",
    "x = 1\n",
    "\n",
    "plt.plot(h:=np.logspace(1,-16,100),np.abs(((f(x+h)-f(x))/h)-df(x)), marker='o')\n",
    "plt.xscale('log')\n",
    "plt.yscale('log')"
   ]
  },
  {
   "cell_type": "code",
   "execution_count": 37,
   "id": "6127a401",
   "metadata": {},
   "outputs": [
    {
     "data": {
      "text/plain": [
       "[<matplotlib.lines.Line2D at 0x767eee3cb250>]"
      ]
     },
     "execution_count": 37,
     "metadata": {},
     "output_type": "execute_result"
    },
    {
     "data": {
      "image/png": "[encoded data removed]",
      "text/plain": [
       "<Figure size 432x288 with 1 Axes>"
      ]
     },
     "metadata": {
      "needs_background": "light"
     },
     "output_type": "display_data"
    }
   ],
   "source": [
    "f = np.sin\n",
    "df = np.cos\n",
    "x = 1\n",
    "\n",
    "plt.plot(h:=np.logspace(1,-16,100),np.abs(((f(x+h)-f(x))/h)-df(x)), marker='o')\n",
    "# plt.xscale('log')\n",
    "# plt.yscale('log')"
   ]
  },
  {
   "cell_type": "markdown",
   "id": "3408db23",
   "metadata": {},
   "source": [
    "### task z całkom"
   ]
  },
  {
   "cell_type": "code",
   "execution_count": 39,
   "id": "2bfadcb5",
   "metadata": {},
   "outputs": [],
   "source": [
    "I=[1-(1/np.e)]\n",
    "for n in range(1,27):\n",
    "    I.append(1-n*I[-1])"
   ]
  },
  {
   "cell_type": "code",
   "execution_count": 40,
   "id": "3ee0e4e3",
   "metadata": {},
   "outputs": [
    {
     "data": {
      "text/plain": [
       "[0.6321205588285577,\n",
       " 0.36787944117144233,\n",
       " 0.26424111765711533,\n",
       " 0.207276647028654,\n",
       " 0.17089341188538398,\n",
       " 0.14553294057308008,\n",
       " 0.1268023565615195,\n",
       " 0.11238350406936348,\n",
       " 0.10093196744509214,\n",
       " 0.09161229299417073,\n",
       " 0.0838770700582927,\n",
       " 0.07735222935878028,\n",
       " 0.07177324769463667,\n",
       " 0.06694777996972334,\n",
       " 0.06273108042387321,\n",
       " 0.059033793641901866,\n",
       " 0.05545930172957014,\n",
       " 0.05719187059730757,\n",
       " -0.029453670751536265,\n",
       " 1.559619744279189,\n",
       " -30.19239488558378,\n",
       " 635.0402925972594,\n",
       " -13969.886437139707,\n",
       " 321308.38805421325,\n",
       " -7711400.313301118,\n",
       " 192785008.83252797,\n",
       " -5012410228.645727]"
      ]
     },
     "execution_count": 40,
     "metadata": {},
     "output_type": "execute_result"
    }
   ],
   "source": [
    "I"
   ]
  },
  {
   "cell_type": "code",
   "execution_count": 50,
   "id": "7cf9a9b6",
   "metadata": {},
   "outputs": [
    {
     "data": {
      "image/png": "[encoded data removed]",
      "text/plain": [
       "<Figure size 432x288 with 1 Axes>"
      ]
     },
     "metadata": {
      "needs_background": "light"
     },
     "output_type": "display_data"
    }
   ],
   "source": [
    "plt.plot(range(27),I)\n",
    "plt.plot(x:=np.arange(27),1/(x+2))\n",
    "plt.yscale('log')"
   ]
  },
  {
   "cell_type": "markdown",
   "id": "a53e6945",
   "metadata": {},
   "source": [
    "### zbiegańsko"
   ]
  },
  {
   "cell_type": "code",
   "execution_count": 64,
   "id": "a9500eac",
   "metadata": {},
   "outputs": [],
   "source": [
    "x = 1\n",
    "clist=[x]\n",
    "for n in range(10000):\n",
    "    x = np.sin(x)\n",
    "    clist.append(x)"
   ]
  },
  {
   "cell_type": "code",
   "execution_count": 65,
   "id": "4973b25d",
   "metadata": {},
   "outputs": [
    {
     "data": {
      "image/png": "[encoded data removed]",
      "text/plain": [
       "<Figure size 432x288 with 1 Axes>"
      ]
     },
     "metadata": {
      "needs_background": "light"
     },
     "output_type": "display_data"
    }
   ],
   "source": [
    "plt.plot(clist)\n",
    "plt.yscale('log')"
   ]
  },
  {
   "cell_type": "markdown",
   "id": "8cd89e07",
   "metadata": {},
   "source": [
    "dla kosinusa to działa troszkie szybciej"
   ]
  },
  {
   "cell_type": "markdown",
   "id": "de440659",
   "metadata": {},
   "source": [
    "### zbiegańsko task (logistic map)"
   ]
  },
  {
   "cell_type": "code",
   "execution_count": 69,
   "id": "0f068d9d",
   "metadata": {},
   "outputs": [],
   "source": [
    "def f(x,K=k): return K*x*(1-x)"
   ]
  },
  {
   "cell_type": "code",
   "execution_count": 103,
   "id": "f84cd93f",
   "metadata": {},
   "outputs": [],
   "source": [
    "k=3.1"
   ]
  },
  {
   "cell_type": "code",
   "execution_count": 109,
   "id": "45f6f57c",
   "metadata": {},
   "outputs": [],
   "source": [
    "\n",
    "flist=[]\n",
    "for x in np.arange(0,1.1,0.1):\n",
    "    y=x\n",
    "    flist.append([y])\n",
    "    for n in range(10000):\n",
    "        y = f(y)\n",
    "        flist[-1].append(y)"
   ]
  },
  {
   "cell_type": "code",
   "execution_count": 110,
   "id": "c1eb5db0",
   "metadata": {},
   "outputs": [
    {
     "data": {
      "image/png": "[encoded data removed]",
      "text/plain": [
       "<Figure size 432x288 with 1 Axes>"
      ]
     },
     "metadata": {
      "needs_background": "light"
     },
     "output_type": "display_data"
    }
   ],
   "source": [
    "for i in range(11): plt.plot(range(10001),flist[i])\n",
    "# plt.yscale('log')"
   ]
  },
  {
   "cell_type": "code",
   "execution_count": 82,
   "id": "4205abd1",
   "metadata": {},
   "outputs": [
    {
     "data": {
      "text/plain": [
       "[0.1,\n",
       " 0.045000000000000005,\n",
       " 0.021487500000000003,\n",
       " 0.010512893671875002,\n",
       " 0.005201186369259426,\n",
       " 0.0025870670148058278,\n",
       " 0.0012901870495333656,\n",
       " 0.000644261233455291,\n",
       " 0.00032192308045917887,\n",
       " 0.00016090972299472327,\n",
       " 8.044191552788451e-05,\n",
       " 4.021772231305536e-05,\n",
       " 2.0108052423933654e-05,\n",
       " 1.0053824045080685e-05,\n",
       " 5.026861482851378e-06,\n",
       " 2.513418106757505e-06,\n",
       " 1.2567058947434628e-06,\n",
       " 6.283521577168785e-07,\n",
       " 3.141758814452222e-07,\n",
       " 1.5708789136936885e-07,\n",
       " 7.854393334638162e-08,\n",
       " 3.927196358861607e-08,\n",
       " 1.9635981023164474e-08,\n",
       " 9.817990318796362e-09,\n",
       " 4.908995111201714e-09,\n",
       " 2.4544975435517406e-09,\n",
       " 1.2272487687635912e-09,\n",
       " 6.136243836287258e-10,\n",
       " 3.0681219162609546e-10,\n",
       " 1.5340609576598087e-10,\n",
       " 7.670304787122373e-11,\n",
       " 3.835152393267018e-11,\n",
       " 1.9175761965599673e-11,\n",
       " 9.587880982615981e-12,\n",
       " 4.793940491262027e-12,\n",
       " 2.3969702456195227e-12,\n",
       " 1.1984851228068886e-12,\n",
       " 5.992425614027261e-13,\n",
       " 2.996212807011835e-13,\n",
       " 1.4981064035054687e-13,\n",
       " 7.490532017526221e-14,\n",
       " 3.74526600876283e-14,\n",
       " 1.872633004381345e-14,\n",
       " 9.36316502190655e-15,\n",
       " 4.681582510953231e-15,\n",
       " 2.3407912554766046e-15,\n",
       " 1.1703956277382995e-15,\n",
       " 5.851978138691491e-16,\n",
       " 2.925989069345744e-16,\n",
       " 1.4629945346728715e-16,\n",
       " 7.314972673364356e-17,\n",
       " 3.6574863366821774e-17,\n",
       " 1.8287431683410887e-17,\n",
       " 9.143715841705444e-18,\n",
       " 4.571857920852722e-18,\n",
       " 2.285928960426361e-18,\n",
       " 1.1429644802131804e-18,\n",
       " 5.714822401065902e-19,\n",
       " 2.857411200532951e-19,\n",
       " 1.4287056002664756e-19,\n",
       " 7.143528001332378e-20,\n",
       " 3.571764000666189e-20,\n",
       " 1.7858820003330945e-20,\n",
       " 8.929410001665472e-21,\n",
       " 4.464705000832736e-21,\n",
       " 2.232352500416368e-21,\n",
       " 1.116176250208184e-21,\n",
       " 5.58088125104092e-22,\n",
       " 2.79044062552046e-22,\n",
       " 1.39522031276023e-22,\n",
       " 6.97610156380115e-23,\n",
       " 3.488050781900575e-23,\n",
       " 1.7440253909502876e-23,\n",
       " 8.720126954751438e-24,\n",
       " 4.360063477375719e-24,\n",
       " 2.1800317386878594e-24,\n",
       " 1.0900158693439297e-24,\n",
       " 5.450079346719649e-25,\n",
       " 2.7250396733598243e-25,\n",
       " 1.3625198366799121e-25,\n",
       " 6.812599183399561e-26,\n",
       " 3.4062995916997804e-26,\n",
       " 1.7031497958498902e-26,\n",
       " 8.515748979249451e-27,\n",
       " 4.2578744896247255e-27,\n",
       " 2.1289372448123627e-27,\n",
       " 1.0644686224061814e-27,\n",
       " 5.322343112030907e-28,\n",
       " 2.6611715560154534e-28,\n",
       " 1.3305857780077267e-28,\n",
       " 6.652928890038634e-29,\n",
       " 3.326464445019317e-29,\n",
       " 1.6632322225096584e-29,\n",
       " 8.316161112548292e-30,\n",
       " 4.158080556274146e-30,\n",
       " 2.079040278137073e-30,\n",
       " 1.0395201390685365e-30,\n",
       " 5.1976006953426825e-31,\n",
       " 2.5988003476713412e-31,\n",
       " 1.2994001738356706e-31,\n",
       " 6.497000869178353e-32]"
      ]
     },
     "execution_count": 82,
     "metadata": {},
     "output_type": "execute_result"
    }
   ],
   "source": [
    "flist[1]"
   ]
  },
  {
   "cell_type": "code",
   "execution_count": null,
   "id": "6d3620cc",
   "metadata": {},
   "outputs": [],
   "source": []
  }
 ],
 "metadata": {
  "kernelspec": {
   "display_name": "Python 3",
   "language": "python",
   "name": "python3"
  },
  "language_info": {
   "codemirror_mode": {
    "name": "ipython",
    "version": 3
   },
   "file_extension": ".py",
   "mimetype": "text/x-python",
   "name": "python",
   "nbconvert_exporter": "python",
   "pygments_lexer": "ipython3",
   "version": "3.10.12"
  }
 },
 "nbformat": 4,
 "nbformat_minor": 5
}
